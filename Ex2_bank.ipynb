{
 "cells": [
  {
   "cell_type": "markdown",
   "metadata": {},
   "source": [
    "### Libraries"
   ]
  },
  {
   "cell_type": "code",
   "execution_count": 111,
   "metadata": {},
   "outputs": [],
   "source": [
    "import pandas as pd\n",
    "import numpy as np\n",
    "from scipy.io import arff\n",
    "import seaborn as sns\n",
    "import matplotlib.pyplot as plt\n",
    "import openml\n",
    "#our neural network\n",
    "from neuralnetwork import Network,FCLayer,ActivationLayer,sigmoid,sigmoid_prime,tanh,tanh_prime,categorical_cross_entropy,categorical_cross_entropy_prime,mse,mse_prime,binary_cross_entropy,binary_cross_entropy_prime,relu,relu_prime\n",
    "import time\n",
    "#sklearn\n",
    "from sklearn.preprocessing import OneHotEncoder,StandardScaler\n",
    "from sklearn.model_selection import train_test_split \n",
    "from sklearn.metrics import recall_score,accuracy_score,confusion_matrix, ConfusionMatrixDisplay, precision_score, make_scorer\n",
    "from sklearn.model_selection import KFold\n",
    "# from sklearn.model_selection import GridSearchCV,KFold,cross_val_score\n",
    "import itertools\n",
    "from imblearn.over_sampling import RandomOverSampler\n",
    "\n",
    "from neuralnetwork import Network,FCLayer,ActivationLayer\n",
    "from neuralnetwork import sigmoid,sigmoid_prime,tanh,tanh_prime,categorical_cross_entropy,categorical_cross_entropy_prime,mse,mse_prime,softmax,softmax_prime\n"
   ]
  },
  {
   "cell_type": "markdown",
   "metadata": {},
   "source": [
    "### Data"
   ]
  },
  {
   "cell_type": "code",
   "execution_count": 166,
   "metadata": {},
   "outputs": [],
   "source": [
    "#directly downloading from openml\n",
    "dataset = openml.datasets.get_dataset(1461)\n",
    "X, y, categorical_indicator, attribute_names = dataset.get_data(\n",
    "    dataset_format=\"dataframe\", target=dataset.default_target_attribute)"
   ]
  },
  {
   "cell_type": "code",
   "execution_count": 167,
   "metadata": {},
   "outputs": [],
   "source": [
    "df_bank = pd.DataFrame(X, columns=attribute_names)\n",
    "df_bank[\"class\"] = y"
   ]
  },
  {
   "cell_type": "code",
   "execution_count": 168,
   "metadata": {},
   "outputs": [],
   "source": [
    "# rename columns\n",
    "column_names_bank = ['age', 'job', 'marital', 'education', 'default',\n",
    "                     'balance', 'housing', 'loan', 'contact', 'day',\n",
    "                     'month', 'duration', 'campaign', 'pdays',\n",
    "                     'previous', 'poutcome', 'class']\n",
    "df_bank.columns = column_names_bank"
   ]
  },
  {
   "cell_type": "code",
   "execution_count": 169,
   "metadata": {},
   "outputs": [
    {
     "data": {
      "text/html": [
       "<div>\n",
       "<style scoped>\n",
       "    .dataframe tbody tr th:only-of-type {\n",
       "        vertical-align: middle;\n",
       "    }\n",
       "\n",
       "    .dataframe tbody tr th {\n",
       "        vertical-align: top;\n",
       "    }\n",
       "\n",
       "    .dataframe thead th {\n",
       "        text-align: right;\n",
       "    }\n",
       "</style>\n",
       "<table border=\"1\" class=\"dataframe\">\n",
       "  <thead>\n",
       "    <tr style=\"text-align: right;\">\n",
       "      <th></th>\n",
       "      <th>age</th>\n",
       "      <th>job</th>\n",
       "      <th>marital</th>\n",
       "      <th>education</th>\n",
       "      <th>default</th>\n",
       "      <th>balance</th>\n",
       "      <th>housing</th>\n",
       "      <th>loan</th>\n",
       "      <th>contact</th>\n",
       "      <th>day</th>\n",
       "      <th>month</th>\n",
       "      <th>duration</th>\n",
       "      <th>campaign</th>\n",
       "      <th>pdays</th>\n",
       "      <th>previous</th>\n",
       "      <th>poutcome</th>\n",
       "      <th>class</th>\n",
       "    </tr>\n",
       "  </thead>\n",
       "  <tbody>\n",
       "    <tr>\n",
       "      <th>0</th>\n",
       "      <td>58</td>\n",
       "      <td>management</td>\n",
       "      <td>married</td>\n",
       "      <td>tertiary</td>\n",
       "      <td>no</td>\n",
       "      <td>2143.0</td>\n",
       "      <td>yes</td>\n",
       "      <td>no</td>\n",
       "      <td>unknown</td>\n",
       "      <td>5</td>\n",
       "      <td>may</td>\n",
       "      <td>261.0</td>\n",
       "      <td>1</td>\n",
       "      <td>-1.0</td>\n",
       "      <td>0.0</td>\n",
       "      <td>unknown</td>\n",
       "      <td>1</td>\n",
       "    </tr>\n",
       "    <tr>\n",
       "      <th>1</th>\n",
       "      <td>44</td>\n",
       "      <td>technician</td>\n",
       "      <td>single</td>\n",
       "      <td>secondary</td>\n",
       "      <td>no</td>\n",
       "      <td>29.0</td>\n",
       "      <td>yes</td>\n",
       "      <td>no</td>\n",
       "      <td>unknown</td>\n",
       "      <td>5</td>\n",
       "      <td>may</td>\n",
       "      <td>151.0</td>\n",
       "      <td>1</td>\n",
       "      <td>-1.0</td>\n",
       "      <td>0.0</td>\n",
       "      <td>unknown</td>\n",
       "      <td>1</td>\n",
       "    </tr>\n",
       "    <tr>\n",
       "      <th>2</th>\n",
       "      <td>33</td>\n",
       "      <td>entrepreneur</td>\n",
       "      <td>married</td>\n",
       "      <td>secondary</td>\n",
       "      <td>no</td>\n",
       "      <td>2.0</td>\n",
       "      <td>yes</td>\n",
       "      <td>yes</td>\n",
       "      <td>unknown</td>\n",
       "      <td>5</td>\n",
       "      <td>may</td>\n",
       "      <td>76.0</td>\n",
       "      <td>1</td>\n",
       "      <td>-1.0</td>\n",
       "      <td>0.0</td>\n",
       "      <td>unknown</td>\n",
       "      <td>1</td>\n",
       "    </tr>\n",
       "    <tr>\n",
       "      <th>3</th>\n",
       "      <td>47</td>\n",
       "      <td>blue-collar</td>\n",
       "      <td>married</td>\n",
       "      <td>unknown</td>\n",
       "      <td>no</td>\n",
       "      <td>1506.0</td>\n",
       "      <td>yes</td>\n",
       "      <td>no</td>\n",
       "      <td>unknown</td>\n",
       "      <td>5</td>\n",
       "      <td>may</td>\n",
       "      <td>92.0</td>\n",
       "      <td>1</td>\n",
       "      <td>-1.0</td>\n",
       "      <td>0.0</td>\n",
       "      <td>unknown</td>\n",
       "      <td>1</td>\n",
       "    </tr>\n",
       "    <tr>\n",
       "      <th>4</th>\n",
       "      <td>33</td>\n",
       "      <td>unknown</td>\n",
       "      <td>single</td>\n",
       "      <td>unknown</td>\n",
       "      <td>no</td>\n",
       "      <td>1.0</td>\n",
       "      <td>no</td>\n",
       "      <td>no</td>\n",
       "      <td>unknown</td>\n",
       "      <td>5</td>\n",
       "      <td>may</td>\n",
       "      <td>198.0</td>\n",
       "      <td>1</td>\n",
       "      <td>-1.0</td>\n",
       "      <td>0.0</td>\n",
       "      <td>unknown</td>\n",
       "      <td>1</td>\n",
       "    </tr>\n",
       "  </tbody>\n",
       "</table>\n",
       "</div>"
      ],
      "text/plain": [
       "   age           job  marital  education default  balance housing loan  \\\n",
       "0   58    management  married   tertiary      no   2143.0     yes   no   \n",
       "1   44    technician   single  secondary      no     29.0     yes   no   \n",
       "2   33  entrepreneur  married  secondary      no      2.0     yes  yes   \n",
       "3   47   blue-collar  married    unknown      no   1506.0     yes   no   \n",
       "4   33       unknown   single    unknown      no      1.0      no   no   \n",
       "\n",
       "   contact  day month  duration  campaign  pdays  previous poutcome class  \n",
       "0  unknown    5   may     261.0         1   -1.0       0.0  unknown     1  \n",
       "1  unknown    5   may     151.0         1   -1.0       0.0  unknown     1  \n",
       "2  unknown    5   may      76.0         1   -1.0       0.0  unknown     1  \n",
       "3  unknown    5   may      92.0         1   -1.0       0.0  unknown     1  \n",
       "4  unknown    5   may     198.0         1   -1.0       0.0  unknown     1  "
      ]
     },
     "execution_count": 169,
     "metadata": {},
     "output_type": "execute_result"
    }
   ],
   "source": [
    "df_bank.head(5)"
   ]
  },
  {
   "cell_type": "markdown",
   "metadata": {},
   "source": [
    "### Preparing the data"
   ]
  },
  {
   "cell_type": "code",
   "execution_count": 170,
   "metadata": {},
   "outputs": [],
   "source": [
    "\n",
    "#some jobs look like can be combined together into same category\n",
    "df_bank['job'] = df_bank['job'].replace(['services','housemaid'], 'pink-collar')\n",
    "df_bank['job'] = df_bank['job'].replace(['admin','management'], 'blue-collar')\n",
    "df_bank['job'] = df_bank['job'].replace(['student','unemployed','retired'], 'other')\n",
    "\n",
    "#dropping this column since it does not bring much value to our analysis\n",
    "df_bank.drop('contact', axis=1, inplace=True)\n",
    "\n",
    "#dropping these columns since they do not bring much value to our analysis\n",
    "df_bank.drop('month', axis=1, inplace=True)\n",
    "df_bank.drop('day', axis=1, inplace=True)\n",
    "\n",
    "# Replacing 'other' with unknown since for both of them we do not have valuable information\n",
    "df_bank['poutcome'] = df_bank['poutcome'].replace('other', 'unknown')\n"
   ]
  },
  {
   "cell_type": "code",
   "execution_count": 171,
   "metadata": {},
   "outputs": [],
   "source": [
    "X = df_bank.drop(['class'], axis=1)[['job','marital','education','default','housing','loan','poutcome','age','balance','duration','pdays','previous','balance']]\n",
    "Y = df_bank['class']"
   ]
  },
  {
   "cell_type": "code",
   "execution_count": 172,
   "metadata": {},
   "outputs": [],
   "source": [
    "cat_cols = ['job','marital','education','default','housing','loan','poutcome']"
   ]
  },
  {
   "cell_type": "code",
   "execution_count": 173,
   "metadata": {},
   "outputs": [
    {
     "name": "stdout",
     "output_type": "stream",
     "text": [
      "       job  marital  education  default  housing  loan  poutcome  age  \\\n",
      "0        1        1          2        0        1     0         2   58   \n",
      "1        6        2          1        0        1     0         2   44   \n",
      "2        2        1          1        0        1     1         2   33   \n",
      "3        1        1          3        0        1     0         2   47   \n",
      "4        7        2          3        0        0     0         2   33   \n",
      "...    ...      ...        ...      ...      ...   ...       ...  ...   \n",
      "45206    6        1          2        0        0     0         2   51   \n",
      "45207    3        0          0        0        0     0         2   71   \n",
      "45208    3        1          1        0        0     0         1   72   \n",
      "45209    1        1          1        0        0     0         2   57   \n",
      "45210    2        1          1        0        0     0         2   37   \n",
      "\n",
      "       balance  duration  pdays  previous  balance  \n",
      "0       2143.0     261.0   -1.0       0.0   2143.0  \n",
      "1         29.0     151.0   -1.0       0.0     29.0  \n",
      "2          2.0      76.0   -1.0       0.0      2.0  \n",
      "3       1506.0      92.0   -1.0       0.0   1506.0  \n",
      "4          1.0     198.0   -1.0       0.0      1.0  \n",
      "...        ...       ...    ...       ...      ...  \n",
      "45206    825.0     977.0   -1.0       0.0    825.0  \n",
      "45207   1729.0     456.0   -1.0       0.0   1729.0  \n",
      "45208   5715.0    1127.0  184.0       3.0   5715.0  \n",
      "45209    668.0     508.0   -1.0       0.0    668.0  \n",
      "45210   2971.0     361.0  188.0      11.0   2971.0  \n",
      "\n",
      "[45211 rows x 13 columns]\n",
      "[[ 1.000e+00  1.000e+00  2.000e+00 ... -1.000e+00  0.000e+00  2.143e+03]\n",
      " [ 6.000e+00  2.000e+00  1.000e+00 ... -1.000e+00  0.000e+00  2.900e+01]\n",
      " [ 2.000e+00  1.000e+00  1.000e+00 ... -1.000e+00  0.000e+00  2.000e+00]\n",
      " ...\n",
      " [ 3.000e+00  1.000e+00  1.000e+00 ...  1.840e+02  3.000e+00  5.715e+03]\n",
      " [ 1.000e+00  1.000e+00  1.000e+00 ... -1.000e+00  0.000e+00  6.680e+02]\n",
      " [ 2.000e+00  1.000e+00  1.000e+00 ...  1.880e+02  1.100e+01  2.971e+03]]\n"
     ]
    },
    {
     "name": "stderr",
     "output_type": "stream",
     "text": [
      "/Library/Frameworks/Python.framework/Versions/3.10/lib/python3.10/site-packages/sklearn/preprocessing/_encoders.py:868: FutureWarning: `sparse` was renamed to `sparse_output` in version 1.2 and will be removed in 1.4. `sparse_output` is ignored unless you leave `sparse` to its default value.\n",
      "  warnings.warn(\n"
     ]
    }
   ],
   "source": [
    "from sklearn.preprocessing import LabelEncoder\n",
    "\n",
    "# Perform integer encoding\n",
    "label_encoder = LabelEncoder()\n",
    "for col in cat_cols:\n",
    "    X[col] = label_encoder.fit_transform(X[col])\n",
    "print(X)\n",
    "X = X.to_numpy()\n",
    "print(X)\n",
    "\n",
    "encoder = OneHotEncoder(sparse = False)\n",
    "y_reshaped = Y.to_numpy().reshape(-1,1)\n",
    "Y = encoder.fit_transform(y_reshaped)"
   ]
  },
  {
   "cell_type": "code",
   "execution_count": 174,
   "metadata": {},
   "outputs": [
    {
     "name": "stdout",
     "output_type": "stream",
     "text": [
      "1.0\n",
      "1.0\n",
      "2.0\n",
      "0.0\n",
      "1.0\n",
      "0.0\n",
      "2.0\n",
      "58.0\n",
      "2143.0\n",
      "261.0\n",
      "-1.0\n",
      "0.0\n",
      "2143.0\n"
     ]
    }
   ],
   "source": [
    "for i in X[0]:\n",
    "    print(i)"
   ]
  },
  {
   "cell_type": "code",
   "execution_count": 175,
   "metadata": {},
   "outputs": [
    {
     "data": {
      "text/plain": [
       "7"
      ]
     },
     "execution_count": 175,
     "metadata": {},
     "output_type": "execute_result"
    }
   ],
   "source": [
    "len(cat_cols)"
   ]
  },
  {
   "cell_type": "code",
   "execution_count": 176,
   "metadata": {},
   "outputs": [],
   "source": [
    "#splitting into train and test set\n",
    "X_train, X_test, y_train, y_test = train_test_split(X, Y, test_size=0.2, random_state=1234)\n",
    "\n",
    "#splitting into train and validation set\n",
    "X_train, X_val, y_train, y_val = train_test_split(X_train, y_train, test_size=0.1,random_state = 1234)\n"
   ]
  },
  {
   "cell_type": "code",
   "execution_count": 177,
   "metadata": {},
   "outputs": [
    {
     "name": "stdout",
     "output_type": "stream",
     "text": [
      "0.0\n",
      "2.0\n",
      "1.0\n",
      "0.0\n",
      "1.0\n",
      "0.0\n",
      "2.0\n",
      "33.0\n",
      "1437.0\n",
      "641.0\n",
      "-1.0\n",
      "0.0\n",
      "1437.0\n"
     ]
    }
   ],
   "source": [
    "for i in X_train[0]:\n",
    "    print(i)"
   ]
  },
  {
   "cell_type": "code",
   "execution_count": 178,
   "metadata": {},
   "outputs": [],
   "source": [
    "scaler = StandardScaler()\n",
    "X_train[:,len(cat_cols)-1:] = scaler.fit_transform(X_train[:,len(cat_cols)-1:])\n",
    "X_test[:,len(cat_cols)-1:]  = scaler.transform(X_test[:,len(cat_cols)-1:])\n",
    "X_val[:,len(cat_cols)-1:]  = scaler.transform(X_val[:,len(cat_cols)-1:])"
   ]
  },
  {
   "cell_type": "markdown",
   "metadata": {},
   "source": [
    "Scaling the data\n",
    "\n",
    "Since some of the features are categorical, we will apply scaling to the numeric columns only"
   ]
  },
  {
   "cell_type": "code",
   "execution_count": 181,
   "metadata": {},
   "outputs": [
    {
     "name": "stdout",
     "output_type": "stream",
     "text": [
      "0.0\n",
      "2.0\n",
      "1.0\n",
      "0.0\n",
      "1.0\n",
      "0.0\n",
      "0.3956854385505649\n",
      "-0.7435220126601306\n",
      "0.028824600696943693\n",
      "1.476071012207698\n",
      "-0.41327724247777153\n",
      "-0.30226542912459375\n",
      "0.028824600696943693\n"
     ]
    }
   ],
   "source": [
    "for i in X_train[0]:\n",
    "    print(i)"
   ]
  },
  {
   "cell_type": "markdown",
   "metadata": {},
   "source": [
    "### Our Neural Network Implementation"
   ]
  },
  {
   "cell_type": "code",
   "execution_count": 180,
   "metadata": {},
   "outputs": [
    {
     "data": {
      "image/png": "[encoded data removed]",
      "text/plain": [
       "<Figure size 1000x600 with 1 Axes>"
      ]
     },
     "metadata": {},
     "output_type": "display_data"
    }
   ],
   "source": [
    "seed = 1234\n",
    "# network with 3 layers\n",
    "seed = 1234\n",
    "# network with 3 layers\n",
    "net = Network()\n",
    "net.add(FCLayer(13, 8,seed =  seed))\n",
    "net.add(FCLayer(8, 8,seed =  seed))    \n",
    "net.add(FCLayer(8, 2,seed =  seed))  \n",
    "net.add(ActivationLayer(tanh, tanh_prime))\n",
    "# train\n",
    "\n",
    "net.use(binary_cross_entropy, binary_cross_entropy_prime)\n",
    "\n",
    "err_vect = net.fit_batch(X_train, y_train, epochs=100, learning_rate=0.1)\n",
    "net.plot_error_curve(err_vect)"
   ]
  },
  {
   "cell_type": "code",
   "execution_count": 28,
   "metadata": {},
   "outputs": [
    {
     "name": "stderr",
     "output_type": "stream",
     "text": [
      "/Users/nadia/Desktop/TUSS23/ML/Exercise 2/MachineLearningEx2/neuralnetwork.py:543: RuntimeWarning: overflow encountered in exp\n",
      "  return 1/(1 + np.exp(-x))\n"
     ]
    },
    {
     "data": {
      "image/png": "[encoded data removed]",
      "text/plain": [
       "<Figure size 1000x600 with 1 Axes>"
      ]
     },
     "metadata": {},
     "output_type": "display_data"
    }
   ],
   "source": [
    "seed = 1234\n",
    "# network with 3 layers\n",
    "seed = 1234\n",
    "# network with 3 layers\n",
    "net = Network()\n",
    "net.add(FCLayer(13, 8,seed =  seed))\n",
    "net.add(FCLayer(8, 8,seed =  seed))    \n",
    "net.add(FCLayer(8, 2,seed =  seed))  \n",
    "net.add(ActivationLayer(sigmoid, sigmoid_prime))\n",
    "# train\n",
    "\n",
    "net.use(binary_cross_entropy, binary_cross_entropy_prime)\n",
    "\n",
    "err_vect = net.fit_batch(X_train, y_train, epochs=100, learning_rate=0.1)\n",
    "net.plot_error_curve(err_vect)"
   ]
  },
  {
   "cell_type": "code",
   "execution_count": 31,
   "metadata": {},
   "outputs": [
    {
     "ename": "KeyboardInterrupt",
     "evalue": "",
     "output_type": "error",
     "traceback": [
      "\u001b[0;31m---------------------------------------------------------------------------\u001b[0m",
      "\u001b[0;31mKeyboardInterrupt\u001b[0m                         Traceback (most recent call last)",
      "Cell \u001b[0;32mIn[31], line 16\u001b[0m\n\u001b[1;32m     12\u001b[0m \u001b[38;5;66;03m# train\u001b[39;00m\n\u001b[1;32m     14\u001b[0m net\u001b[38;5;241m.\u001b[39muse(binary_cross_entropy, binary_cross_entropy_prime)\n\u001b[0;32m---> 16\u001b[0m err_vect \u001b[38;5;241m=\u001b[39m \u001b[43mnet\u001b[49m\u001b[38;5;241;43m.\u001b[39;49m\u001b[43mfit_batch\u001b[49m\u001b[43m(\u001b[49m\u001b[43mX_train\u001b[49m\u001b[43m,\u001b[49m\u001b[43m \u001b[49m\u001b[43my_train\u001b[49m\u001b[43m,\u001b[49m\u001b[43m \u001b[49m\u001b[43mepochs\u001b[49m\u001b[38;5;241;43m=\u001b[39;49m\u001b[38;5;241;43m200\u001b[39;49m\u001b[43m,\u001b[49m\u001b[43m \u001b[49m\u001b[43mlearning_rate\u001b[49m\u001b[38;5;241;43m=\u001b[39;49m\u001b[38;5;241;43m0.01\u001b[39;49m\u001b[43m)\u001b[49m\n\u001b[1;32m     17\u001b[0m net\u001b[38;5;241m.\u001b[39mplot_error_curve(err_vect)\n",
      "File \u001b[0;32m~/Desktop/TUSS23/ML/Exercise 2/MachineLearningEx2/neuralnetwork.py:239\u001b[0m, in \u001b[0;36mNetwork.fit_batch\u001b[0;34m(self, x_train, y_train, epochs, learning_rate, batch_mode, reg_lambda)\u001b[0m\n\u001b[1;32m    <a href='file:///Users/nadia/Desktop/TUSS23/ML/Exercise%202/MachineLearningEx2/neuralnetwork.py?line=236'>237</a>\u001b[0m     \u001b[39m# compute loss\u001b[39;00m\n\u001b[1;32m    <a href='file:///Users/nadia/Desktop/TUSS23/ML/Exercise%202/MachineLearningEx2/neuralnetwork.py?line=237'>238</a>\u001b[0m     err \u001b[39m+\u001b[39m\u001b[39m=\u001b[39m \u001b[39mself\u001b[39m\u001b[39m.\u001b[39mloss(y_train[j], output)\n\u001b[0;32m--> <a href='file:///Users/nadia/Desktop/TUSS23/ML/Exercise%202/MachineLearningEx2/neuralnetwork.py?line=238'>239</a>\u001b[0m     error_vect[j, :] \u001b[39m=\u001b[39m \u001b[39mself\u001b[39;49m\u001b[39m.\u001b[39;49mloss_prime(y_train[j], output)\n\u001b[1;32m    <a href='file:///Users/nadia/Desktop/TUSS23/ML/Exercise%202/MachineLearningEx2/neuralnetwork.py?line=240'>241</a>\u001b[0m \u001b[39m# backward propagation - after all input samples have been propagated forwardly\u001b[39;00m\n\u001b[1;32m    <a href='file:///Users/nadia/Desktop/TUSS23/ML/Exercise%202/MachineLearningEx2/neuralnetwork.py?line=241'>242</a>\u001b[0m error \u001b[39m=\u001b[39m error_vect\u001b[39m.\u001b[39mmean(axis\u001b[39m=\u001b[39m\u001b[39m0\u001b[39m)\n",
      "File \u001b[0;32m~/Desktop/TUSS23/ML/Exercise 2/MachineLearningEx2/neuralnetwork.py:597\u001b[0m, in \u001b[0;36mbinary_cross_entropy_prime\u001b[0;34m(y_true, y_pred)\u001b[0m\n\u001b[1;32m    <a href='file:///Users/nadia/Desktop/TUSS23/ML/Exercise%202/MachineLearningEx2/neuralnetwork.py?line=595'>596</a>\u001b[0m \u001b[39mdef\u001b[39;00m \u001b[39mbinary_cross_entropy_prime\u001b[39m(y_true, y_pred):\n\u001b[0;32m--> <a href='file:///Users/nadia/Desktop/TUSS23/ML/Exercise%202/MachineLearningEx2/neuralnetwork.py?line=596'>597</a>\u001b[0m     y_pred \u001b[39m=\u001b[39m np\u001b[39m.\u001b[39;49mclip(y_pred, \u001b[39m1e-7\u001b[39;49m, \u001b[39m1\u001b[39;49m \u001b[39m-\u001b[39;49m \u001b[39m1e-7\u001b[39;49m)\n\u001b[1;32m    <a href='file:///Users/nadia/Desktop/TUSS23/ML/Exercise%202/MachineLearningEx2/neuralnetwork.py?line=597'>598</a>\u001b[0m     \u001b[39mreturn\u001b[39;00m (y_pred \u001b[39m-\u001b[39m y_true) \u001b[39m/\u001b[39m (y_pred \u001b[39m*\u001b[39m (\u001b[39m1\u001b[39m \u001b[39m-\u001b[39m y_pred))\n",
      "File \u001b[0;32m<__array_function__ internals>:200\u001b[0m, in \u001b[0;36mclip\u001b[0;34m(*args, **kwargs)\u001b[0m\n",
      "File \u001b[0;32m/Library/Frameworks/Python.framework/Versions/3.10/lib/python3.10/site-packages/numpy/core/fromnumeric.py:2111\u001b[0m, in \u001b[0;36mclip\u001b[0;34m(a, a_min, a_max, out, **kwargs)\u001b[0m\n\u001b[1;32m   <a href='file:///Library/Frameworks/Python.framework/Versions/3.10/lib/python3.10/site-packages/numpy/core/fromnumeric.py?line=2106'>2107</a>\u001b[0m \u001b[39mdef\u001b[39;00m \u001b[39m_clip_dispatcher\u001b[39m(a, a_min, a_max, out\u001b[39m=\u001b[39m\u001b[39mNone\u001b[39;00m, \u001b[39m*\u001b[39m\u001b[39m*\u001b[39mkwargs):\n\u001b[1;32m   <a href='file:///Library/Frameworks/Python.framework/Versions/3.10/lib/python3.10/site-packages/numpy/core/fromnumeric.py?line=2107'>2108</a>\u001b[0m     \u001b[39mreturn\u001b[39;00m (a, a_min, a_max)\n\u001b[0;32m-> <a href='file:///Library/Frameworks/Python.framework/Versions/3.10/lib/python3.10/site-packages/numpy/core/fromnumeric.py?line=2110'>2111</a>\u001b[0m \u001b[39m@array_function_dispatch\u001b[39m(_clip_dispatcher)\n\u001b[1;32m   <a href='file:///Library/Frameworks/Python.framework/Versions/3.10/lib/python3.10/site-packages/numpy/core/fromnumeric.py?line=2111'>2112</a>\u001b[0m \u001b[39mdef\u001b[39;00m \u001b[39mclip\u001b[39m(a, a_min, a_max, out\u001b[39m=\u001b[39m\u001b[39mNone\u001b[39;00m, \u001b[39m*\u001b[39m\u001b[39m*\u001b[39mkwargs):\n\u001b[1;32m   <a href='file:///Library/Frameworks/Python.framework/Versions/3.10/lib/python3.10/site-packages/numpy/core/fromnumeric.py?line=2112'>2113</a>\u001b[0m     \u001b[39m\"\"\"\u001b[39;00m\n\u001b[1;32m   <a href='file:///Library/Frameworks/Python.framework/Versions/3.10/lib/python3.10/site-packages/numpy/core/fromnumeric.py?line=2113'>2114</a>\u001b[0m \u001b[39m    Clip (limit) the values in an array.\u001b[39;00m\n\u001b[1;32m   <a href='file:///Library/Frameworks/Python.framework/Versions/3.10/lib/python3.10/site-packages/numpy/core/fromnumeric.py?line=2114'>2115</a>\u001b[0m \n\u001b[0;32m   (...)\u001b[0m\n\u001b[1;32m   <a href='file:///Library/Frameworks/Python.framework/Versions/3.10/lib/python3.10/site-packages/numpy/core/fromnumeric.py?line=2177'>2178</a>\u001b[0m \n\u001b[1;32m   <a href='file:///Library/Frameworks/Python.framework/Versions/3.10/lib/python3.10/site-packages/numpy/core/fromnumeric.py?line=2178'>2179</a>\u001b[0m \u001b[39m    \"\"\"\u001b[39;00m\n\u001b[1;32m   <a href='file:///Library/Frameworks/Python.framework/Versions/3.10/lib/python3.10/site-packages/numpy/core/fromnumeric.py?line=2179'>2180</a>\u001b[0m     \u001b[39mreturn\u001b[39;00m _wrapfunc(a, \u001b[39m'\u001b[39m\u001b[39mclip\u001b[39m\u001b[39m'\u001b[39m, a_min, a_max, out\u001b[39m=\u001b[39mout, \u001b[39m*\u001b[39m\u001b[39m*\u001b[39mkwargs)\n",
      "\u001b[0;31mKeyboardInterrupt\u001b[0m: "
     ]
    }
   ],
   "source": [
    "seed = 1234\n",
    "# network with 3 layers\n",
    "seed = 1234\n",
    "# network with 3 layers\n",
    "net = Network()\n",
    "net.add(FCLayer(13, 8,seed =  seed))\n",
    "net.add(ActivationLayer(tanh, tanh_prime))\n",
    "net.add(FCLayer(8, 8,seed =  seed))    \n",
    "net.add(ActivationLayer(tanh, tanh_prime))\n",
    "net.add(FCLayer(8, 2,seed =  seed))  \n",
    "net.add(ActivationLayer(sigmoid, sigmoid_prime))\n",
    "# train\n",
    "\n",
    "net.use(binary_cross_entropy, binary_cross_entropy_prime)\n",
    "\n",
    "err_vect = net.fit_batch(X_train, y_train, epochs=200, learning_rate=0.01)\n",
    "net.plot_error_curve(err_vect)"
   ]
  },
  {
   "cell_type": "code",
   "execution_count": null,
   "metadata": {},
   "outputs": [],
   "source": []
  }
 ],
 "metadata": {
  "interpreter": {
   "hash": "aee8b7b246df8f9039afb4144a1f6fd8d2ca17a180786b69acc140d282b71a49"
  },
  "kernelspec": {
   "display_name": "Python 3.10.4 64-bit",
   "language": "python",
   "name": "python3"
  },
  "language_info": {
   "codemirror_mode": {
    "name": "ipython",
    "version": 3
   },
   "file_extension": ".py",
   "mimetype": "text/x-python",
   "name": "python",
   "nbconvert_exporter": "python",
   "pygments_lexer": "ipython3",
   "version": "3.10.4"
  },
  "orig_nbformat": 4
 },
 "nbformat": 4,
 "nbformat_minor": 2
}
