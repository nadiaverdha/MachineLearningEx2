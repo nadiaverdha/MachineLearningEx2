{
 "cells": [
  {
   "cell_type": "markdown",
   "metadata": {
    "pycharm": {
     "name": "#%% md\n"
    }
   },
   "source": [
    "# Neural Networks - implementation from scratch "
   ]
  },
  {
   "cell_type": "code",
   "execution_count": 21,
   "metadata": {
    "collapsed": false,
    "jupyter": {
     "outputs_hidden": false
    },
    "pycharm": {
     "name": "#%%\n"
    }
   },
   "outputs": [],
   "source": [
    "import numpy as np\n",
    "import matplotlib.pyplot as plt\n",
    "\n",
    "# sklearn\n",
    "from sklearn.metrics import recall_score, accuracy_score, precision_score, confusion_matrix, ConfusionMatrixDisplay\n"
   ]
  },
  {
   "cell_type": "code",
   "execution_count": 22,
   "metadata": {
    "pycharm": {
     "name": "#%% md\n"
    }
   },
   "outputs": [],
   "source": [
    "# fully - connected layer\n",
    "class FCLayer:\n",
    "    def __init__(self, input_size, output_size):\n",
    "        self.input = None\n",
    "        self.output = None\n",
    "        # uniform distribution [0, 1] - 0.5 -> [-0.5, 0.5]\n",
    "        self.weights = np.random.rand(input_size, output_size) - 0.5\n",
    "        self.bias = np.random.rand(1, output_size) - 0.5\n",
    "        \n",
    "    # forward propagation: \n",
    "    # compute output Y of the layer for a given input X\n",
    "    def forward_propagation(self, input):\n",
    "        if (np.ndim(input) == 1):\n",
    "            self.input = input.reshape((1, input.shape[0]))\n",
    "        else:\n",
    "            self.input = input\n",
    "            \n",
    "        # Y = XW + B\n",
    "        self.output = np.dot(self.input, self.weights) + self.bias\n",
    "        return self.output\n",
    "        \n",
    "    # backward propagation: \n",
    "    # compute dE/dW, dE/dB (update weights+bias) for a given output_error=dE/dY\n",
    "    # return input_error=dE/dX\n",
    "    def backward_propagation(self, output_error, learning_rate):\n",
    "        input_error = np.dot(output_error, self.weights.T)\n",
    "        weights_error = np.dot(self.input.T, output_error)\n",
    "        \n",
    "        # update parameters\n",
    "        self.weights -= learning_rate * weights_error\n",
    "        self.bias -= learning_rate * output_error\n",
    "        \n",
    "        return input_error"
   ]
  },
  {
   "cell_type": "code",
   "execution_count": 23,
   "metadata": {
    "pycharm": {
     "name": "#%% md\n"
    }
   },
   "outputs": [],
   "source": [
    "# activation layer\n",
    "class ActivationLayer:\n",
    "    def __init__(self, activation, activation_prime):\n",
    "        self.input = None\n",
    "        self.output = None\n",
    "        self.activation = activation\n",
    "        self.activation_prime = activation_prime\n",
    "    \n",
    "    # forward propagation:\n",
    "    # return the activated input (activation fcn applied on input)\n",
    "    def forward_propagation(self, input_data):\n",
    "        if (np.ndim(input_data) == 1):\n",
    "            self.input = input_data.reshape((1, input_data.shape[0]))\n",
    "        else:\n",
    "            self.input = input_data\n",
    "            \n",
    "        self.output = self.activation(self.input)\n",
    "        return self.output\n",
    "    \n",
    "    # backward propagation:\n",
    "    # return input_error=dE/dX for a given output_error=dE/dY\n",
    "    # learning_rate not used, there are no parameters to update\n",
    "    def backward_propagation(self, output_error, learning_rate):\n",
    "        return self.activation_prime(self.input) * output_error"
   ]
  },
  {
   "cell_type": "code",
   "execution_count": 24,
   "metadata": {
    "collapsed": false,
    "jupyter": {
     "outputs_hidden": false
    },
    "pycharm": {
     "name": "#%%\n"
    }
   },
   "outputs": [],
   "source": [
    "# activation function and its derivative\n",
    "def tanh(x):\n",
    "    return np.tanh(x);\n",
    "\n",
    "def tanh_prime(x):\n",
    "    return 1-np.tanh(x)**2;"
   ]
  },
  {
   "cell_type": "code",
   "execution_count": 25,
   "metadata": {},
   "outputs": [],
   "source": [
    "# loss function and its derivative\n",
    "def mse(y_true, y_pred):\n",
    "    return np.mean(np.power(y_true-y_pred, 2));\n",
    "\n",
    "def mse_prime(y_true, y_pred):\n",
    "    return 2*(y_pred-y_true)/y_true.size;"
   ]
  },
  {
   "cell_type": "code",
   "execution_count": 44,
   "metadata": {},
   "outputs": [],
   "source": [
    "class Network:\n",
    "    def __init__(self):\n",
    "        self.layers = []\n",
    "        self.loss = None\n",
    "        self.loss_prime = None\n",
    "        \n",
    "    # add layer to the network\n",
    "    def add(self, layer):\n",
    "        self.layers.append(layer)\n",
    "        \n",
    "    # set loss function\n",
    "    def use(self, loss, loss_prime):\n",
    "        self.loss = loss\n",
    "        self.loss_prime = loss_prime\n",
    "        \n",
    "    # predict output for given input\n",
    "    def predict(self, input_data):\n",
    "        samples = len(input_data) # input size\n",
    "        result = []\n",
    "        \n",
    "        # run network for all samples\n",
    "        for i in range(0, samples):\n",
    "            # forward propagation\n",
    "            output = input_data[i, :] # i-th sample\n",
    "            for layer in self.layers:\n",
    "                output = layer.forward_propagation(output)\n",
    "            result.append(output)\n",
    "            \n",
    "        return result\n",
    "    \n",
    "    \n",
    "    # train the network\n",
    "    def fit(self, x_train, y_train, epochs, learning_rate):\n",
    "        samples = len(x_train) # length of the training set\n",
    "        err_vect = np.zeros(epochs)\n",
    "        # training loop\n",
    "        for i in range(0, epochs):\n",
    "            err = 0\n",
    "            for j in range(0, samples): # through all training samples\n",
    "                # forward propagation\n",
    "                output = x_train[j, :]  \n",
    "                for layer in self.layers:\n",
    "                    output = layer.forward_propagation(output)\n",
    "                    \n",
    "                # compute loss\n",
    "                err += self.loss(y_train[j], output)\n",
    "                \n",
    "                # backward propagation\n",
    "                error = self.loss_prime(y_train[j], output)\n",
    "                for layer in reversed(self.layers):\n",
    "                    error = layer.backward_propagation(error, learning_rate)\n",
    "            \n",
    "            # average error per sample\n",
    "            err /= samples\n",
    "            err_vect[i] = err\n",
    "            # print('epoch %d/%d   error=%f' % (i+1, epochs, err))\n",
    "        return err_vect\n",
    "\n",
    "    def plot_error_curve(self, err_vect):\n",
    "        plt.figure(figsize=(10, 6))\n",
    "        plt.plot(np.arange(1, len(err_vect)+1, 1), err_vect, '-', color='darkblue')\n",
    "        plt.xlabel('epoch')\n",
    "        plt.ylabel('error')\n",
    "        plt.title('Average error per sample through training epochs')\n",
    "        \n",
    "    def nn_evaluate(self, x_train, y_train, x_test, y_test, epochs, learning_rate):\n",
    "        self.fit(x_train, y_train, epochs, learning_rate)\n",
    "        \n",
    "        y_train_pred = self.predict(x_train)\n",
    "        y_train_pred = np.concatenate(y_train_pred).flatten()\n",
    "        y_train_pred = np.round(y_train_pred).astype(int) # classification problem\n",
    "        \n",
    "        y_test_pred = self.predict(x_test)\n",
    "        y_test_pred = np.concatenate(y_test_pred).flatten()\n",
    "        y_test_pred = np.round(y_test_pred).astype(int)   # classification problem\n",
    "        \n",
    "        y_train = np.concatenate(y_train).flatten()\n",
    "        y_test = np.concatenate(y_test).flatten()\n",
    "        # accuracy\n",
    "        print(\"#\"*50)\n",
    "        print(\"Accuracy on train: \", accuracy_score(y_true=y_train, y_pred=y_train_pred))\n",
    "        print(\"Accuracy on test: \", accuracy_score(y_true=y_test, y_pred=y_test_pred))\n",
    "        # recall\n",
    "        print(\"#\"*50)\n",
    "        print(\"Recall on train: \", recall_score(y_true=y_train, y_pred=y_train_pred, average='micro'))\n",
    "        print(\"Recall on test: \", recall_score(y_true=y_test, y_pred=y_test_pred, average='micro'))\n",
    "        # precision\n",
    "        print(\"#\"*50)\n",
    "        print(\"Precision on train: \", precision_score(y_true=y_train, y_pred=y_train_pred, average='micro'))\n",
    "        print(\"Precision on test: \", precision_score(y_true=y_test, y_pred=y_test_pred, average='micro'))\n",
    "    \n",
    "        # plot confusion matrices\n",
    "        print(\"#\"*50)\n",
    "        fig, ax = plt.subplots(nrows=1, ncols=2, figsize=(15, 5))\n",
    "\n",
    "        c_1 = confusion_matrix(y_true=y_train, y_pred=y_train_pred)\n",
    "        cmd_1 = ConfusionMatrixDisplay(c_1, display_labels=['0', '1', '2'])\n",
    "        cmd_1.plot(ax=ax[0], cmap=plt.cm.Blues)\n",
    "        ax[0].set_title(\"Confusion matrix: train data\")\n",
    "\n",
    "        c_2 = confusion_matrix(y_true=y_test, y_pred=y_test_pred)\n",
    "        cmd_2 = ConfusionMatrixDisplay(c_2, display_labels=['0', '1', '2'])\n",
    "        cmd_2.plot(ax=ax[1], cmap=plt.cm.Blues)\n",
    "        ax[1].set_title(\"Confusion matrix: test data\")\n",
    "\n",
    "        plt.tight_layout()\n",
    "        plt.suptitle(\"Neural Network: our implementation\", fontsize=15, ha='center')\n",
    "        plt.subplots_adjust(top=0.85)\n",
    "\n",
    "        plt.show()\n",
    "        \n",
    "        "
   ]
  },
  {
   "cell_type": "markdown",
   "metadata": {},
   "source": [
    "### Example"
   ]
  },
  {
   "cell_type": "code",
   "execution_count": 41,
   "metadata": {},
   "outputs": [
    {
     "data": {
      "text/plain": [
       "array([[0, 0],\n",
       "       [0, 1],\n",
       "       [1, 0],\n",
       "       [1, 1]])"
      ]
     },
     "execution_count": 41,
     "metadata": {},
     "output_type": "execute_result"
    }
   ],
   "source": [
    "# building NN\n",
    "\n",
    "# training data\n",
    "# x_train = np.array([[[0,0]], [[0,1]], [[1,0]], [[1,1]]])\n",
    "# y_train = np.array([[[0]], [[1]], [[1]], [[0]]])\n",
    "\n",
    "x_train = np.array([[0,0], [0,1], [1,0], [1,1]])\n",
    "y_train = np.array([[0], [1], [1], [0]])\n",
    "x_train"
   ]
  },
  {
   "cell_type": "code",
   "execution_count": 28,
   "metadata": {},
   "outputs": [
    {
     "data": {
      "text/plain": [
       "(1,)"
      ]
     },
     "execution_count": 28,
     "metadata": {},
     "output_type": "execute_result"
    }
   ],
   "source": [
    "y_train[1, :] = y_train[1, :].reshape((1, 1))\n",
    "y_train[1, :].shape"
   ]
  },
  {
   "cell_type": "code",
   "execution_count": null,
   "metadata": {},
   "outputs": [],
   "source": []
  },
  {
   "cell_type": "code",
   "execution_count": 42,
   "metadata": {},
   "outputs": [
    {
     "name": "stdout",
     "output_type": "stream",
     "text": [
      "[array([[0.00070512]]), array([[0.97862539]]), array([[0.97855922]]), array([[-0.0013806]])]\n"
     ]
    },
    {
     "data": {
      "image/png": "[encoded data removed]",
      "text/plain": [
       "<Figure size 720x432 with 1 Axes>"
      ]
     },
     "metadata": {
      "needs_background": "light"
     },
     "output_type": "display_data"
    }
   ],
   "source": [
    "# network\n",
    "net = Network()\n",
    "net.add(FCLayer(2, 3))\n",
    "net.add(ActivationLayer(tanh, tanh_prime))\n",
    "net.add(FCLayer(3, 1))\n",
    "net.add(ActivationLayer(tanh, tanh_prime))\n",
    "\n",
    "# train\n",
    "net.use(mse, mse_prime)\n",
    "err_vect = net.fit(x_train, y_train, epochs=1000, learning_rate=0.1)\n",
    "net.plot_error_curve(err_vect)\n",
    "\n",
    "# test\n",
    "out = net.predict(x_train)\n",
    "print(out)"
   ]
  },
  {
   "cell_type": "code",
   "execution_count": 37,
   "metadata": {},
   "outputs": [
    {
     "data": {
      "text/plain": [
       "array([ 3.69556970e-04,  9.75047534e-01,  9.75045270e-01, -1.17881123e-04])"
      ]
     },
     "execution_count": 37,
     "metadata": {},
     "output_type": "execute_result"
    }
   ],
   "source": [
    "np.concatenate(out).flatten()"
   ]
  },
  {
   "cell_type": "code",
   "execution_count": 30,
   "metadata": {},
   "outputs": [
    {
     "name": "stdout",
     "output_type": "stream",
     "text": [
      "[array([[0.52337426]]), array([[0.52672906]]), array([[0.51518898]]), array([[0.51859501]])]\n",
      "[[0.52337426]\n",
      " [0.52672906]\n",
      " [0.51518898]\n",
      " [0.51859501]]\n",
      "[0.52337426 0.52672906 0.51518898 0.51859501]\n"
     ]
    }
   ],
   "source": [
    "# Conversion to 1D numpy array\n",
    "print(out)\n",
    "print(np.concatenate(out))\n",
    "print(np.concatenate(out).flatten())"
   ]
  },
  {
   "cell_type": "code",
   "execution_count": 43,
   "metadata": {},
   "outputs": [
    {
     "name": "stdout",
     "output_type": "stream",
     "text": [
      "##################################################\n",
      "Accuracy on train:  1.0\n",
      "Accuracy on test:  1.0\n",
      "##################################################\n",
      "Recall on train:  1.0\n",
      "Recall on test:  1.0\n",
      "##################################################\n",
      "Precision on train:  1.0\n",
      "Precision on test:  1.0\n",
      "##################################################\n"
     ]
    },
    {
     "data": {
      "image/png": "[encoded data removed]",
      "text/plain": [
       "<Figure size 1080x360 with 4 Axes>"
      ]
     },
     "metadata": {
      "needs_background": "light"
     },
     "output_type": "display_data"
    }
   ],
   "source": [
    "net.nn_evaluate(x_train=x_train, y_train=y_train, x_test=x_train, y_test=y_train, epochs=1000, learning_rate=0.1)"
   ]
  },
  {
   "cell_type": "markdown",
   "metadata": {},
   "source": [
    "### Example: Iris dataset"
   ]
  },
  {
   "cell_type": "code",
   "execution_count": 45,
   "metadata": {},
   "outputs": [],
   "source": [
    "from sklearn.datasets import load_iris\n",
    "from sklearn.model_selection import train_test_split\n",
    "\n",
    "iris = load_iris()\n",
    "\n",
    "X_train, X_test, y_train, y_test = train_test_split(iris.data, iris.target, test_size=0.2, random_state=42)\n"
   ]
  },
  {
   "cell_type": "code",
   "execution_count": 70,
   "metadata": {},
   "outputs": [
    {
     "data": {
      "text/plain": [
       "array([0, 0, 1, 0, 0, 2, 1, 0, 0, 0, 2, 1, 1, 0, 0, 1, 2, 2, 1, 2, 1, 2,\n",
       "       1, 0, 2, 1, 0, 0, 0, 1, 2, 0, 0, 0, 1, 0, 1, 2, 0, 1, 2, 0, 2, 2,\n",
       "       1, 1, 2, 1, 0, 1, 2, 0, 0, 1, 1, 0, 2, 0, 0, 1, 1, 2, 1, 2, 2, 1,\n",
       "       0, 0, 2, 2, 0, 0, 0, 1, 2, 0, 2, 2, 0, 1, 1, 2, 1, 2, 0, 2, 1, 2,\n",
       "       1, 1, 1, 0, 1, 1, 0, 1, 2, 2, 0, 1, 2, 2, 0, 2, 0, 1, 2, 2, 1, 2,\n",
       "       1, 1, 2, 2, 0, 1, 2, 0, 1, 2])"
      ]
     },
     "execution_count": 70,
     "metadata": {},
     "output_type": "execute_result"
    }
   ],
   "source": [
    "y_train_hot = np.zeros([])"
   ]
  },
  {
   "cell_type": "code",
   "execution_count": 45,
   "metadata": {},
   "outputs": [
    {
     "name": "stdout",
     "output_type": "stream",
     "text": [
      "(120, 4)\n",
      "(30, 4)\n"
     ]
    }
   ],
   "source": [
    "print(X_train.shape)\n",
    "print(X_test.shape)"
   ]
  },
  {
   "cell_type": "code",
   "execution_count": 47,
   "metadata": {},
   "outputs": [
    {
     "data": {
      "image/png": "[encoded data removed]",
      "text/plain": [
       "<Figure size 720x432 with 1 Axes>"
      ]
     },
     "metadata": {
      "needs_background": "light"
     },
     "output_type": "display_data"
    }
   ],
   "source": [
    "# network\n",
    "net = Network()\n",
    "net.add(FCLayer(4, 5))\n",
    "net.add(ActivationLayer(tanh, tanh_prime))\n",
    "net.add(FCLayer(5, 3))\n",
    "net.add(ActivationLayer(tanh, tanh_prime))\n",
    "net.add(FCLayer(3, 3))\n",
    "net.add(ActivationLayer(tanh, tanh_prime))\n",
    "net.add(FCLayer(3, 1))\n",
    "net.add(ActivationLayer(tanh, tanh_prime))\n",
    "\n",
    "# train\n",
    "net.use(mse, mse_prime)\n",
    "# reshape first, such that every row becomes separate array\n",
    "# X_train = X_train.reshape(X_train.shape[0], 1, X_train.shape[1])\n",
    "# y_train = y_train.reshape(y_train.shape[0], 1, 1)\n",
    "\n",
    "# X_test = X_test.reshape(X_test.shape[0], 1, X_test.shape[1])\n",
    "# y_test = y_test.reshape(y_test.shape[0], 1, 1)\n",
    "\n",
    "err_vect = net.fit(X_train, y_train, epochs=1000, learning_rate=0.1)\n",
    "net.plot_error_curve(err_vect)"
   ]
  },
  {
   "cell_type": "code",
   "execution_count": 48,
   "metadata": {},
   "outputs": [
    {
     "name": "stdout",
     "output_type": "stream",
     "text": [
      "##################################################\n",
      "Accuracy on train:  0.675\n",
      "Accuracy on test:  0.6333333333333333\n",
      "##################################################\n",
      "Recall on train:  0.675\n",
      "Recall on test:  0.6333333333333333\n",
      "##################################################\n",
      "Precision on train:  0.675\n",
      "Precision on test:  0.6333333333333333\n",
      "##################################################\n"
     ]
    },
    {
     "data": {
      "image/png": "[encoded data removed]",
      "text/plain": [
       "<Figure size 1080x360 with 4 Axes>"
      ]
     },
     "metadata": {
      "needs_background": "light"
     },
     "output_type": "display_data"
    }
   ],
   "source": [
    "net.nn_evaluate(x_train=X_train, y_train=y_train, x_test=X_test, y_test=y_test, epochs=1000, learning_rate=0.1)"
   ]
  },
  {
   "cell_type": "code",
   "execution_count": 41,
   "metadata": {},
   "outputs": [
    {
     "name": "stdout",
     "output_type": "stream",
     "text": [
      "[array([[0.9999915]]), array([[0.00066436]]), array([[0.99999497]]), array([[0.99999106]]), array([[0.9999918]]), array([[-0.00034772]]), array([[0.9993891]]), array([[0.99999456]]), array([[0.99999413]]), array([[0.99993969]]), array([[0.9999943]]), array([[-0.00324599]]), array([[-0.0015659]]), array([[-0.00193634]]), array([[5.68729639e-05]]), array([[0.9999883]]), array([[0.99999493]]), array([[0.99997126]]), array([[0.99999145]]), array([[0.99999493]]), array([[0.00072182]]), array([[0.99999417]]), array([[0.00118123]]), array([[0.99999492]]), array([[0.99999476]]), array([[0.99999477]]), array([[0.99999492]]), array([[0.99999493]]), array([[-0.00132474]]), array([[0.00082403]])]\n"
     ]
    }
   ],
   "source": [
    "out = net.predict(X_test)\n",
    "print(out)"
   ]
  },
  {
   "cell_type": "code",
   "execution_count": null,
   "metadata": {},
   "outputs": [],
   "source": []
  },
  {
   "cell_type": "code",
   "execution_count": null,
   "metadata": {},
   "outputs": [],
   "source": []
  },
  {
   "cell_type": "code",
   "execution_count": null,
   "metadata": {},
   "outputs": [],
   "source": []
  },
  {
   "cell_type": "code",
   "execution_count": null,
   "metadata": {},
   "outputs": [],
   "source": []
  },
  {
   "cell_type": "code",
   "execution_count": null,
   "metadata": {},
   "outputs": [],
   "source": []
  },
  {
   "cell_type": "code",
   "execution_count": null,
   "metadata": {},
   "outputs": [],
   "source": []
  },
  {
   "cell_type": "code",
   "execution_count": null,
   "metadata": {},
   "outputs": [],
   "source": []
  },
  {
   "cell_type": "code",
   "execution_count": 51,
   "metadata": {
    "collapsed": false,
    "jupyter": {
     "outputs_hidden": false
    },
    "pycharm": {
     "name": "#%%\n"
    }
   },
   "outputs": [],
   "source": []
  },
  {
   "cell_type": "code",
   "execution_count": null,
   "metadata": {
    "collapsed": false,
    "jupyter": {
     "outputs_hidden": false
    },
    "pycharm": {
     "name": "#%%\n"
    }
   },
   "outputs": [],
   "source": []
  }
 ],
 "metadata": {
  "kernelspec": {
   "display_name": "Python 3 (ipykernel)",
   "language": "python",
   "name": "python3"
  },
  "language_info": {
   "codemirror_mode": {
    "name": "ipython",
    "version": 3
   },
   "file_extension": ".py",
   "mimetype": "text/x-python",
   "name": "python",
   "nbconvert_exporter": "python",
   "pygments_lexer": "ipython3",
   "version": "3.8.12"
  }
 },
 "nbformat": 4,
 "nbformat_minor": 4
}
